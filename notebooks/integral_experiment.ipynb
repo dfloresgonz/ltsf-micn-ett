{
 "cells": [
  {
   "cell_type": "code",
   "execution_count": 1,
   "id": "56ec8063",
   "metadata": {},
   "outputs": [
    {
     "name": "stdout",
     "output_type": "stream",
     "text": [
      "Added /Users/diego/Documents/maestriaUTEC/ciclo05/deeplearning/lab02 to Python path\n"
     ]
    }
   ],
   "source": [
    "import sys\n",
    "import os\n",
    "\n",
    "project_root = os.path.abspath(os.path.join(os.getcwd(), '..'))\n",
    "if project_root not in sys.path:\n",
    "    sys.path.insert(0, project_root)\n",
    "\n",
    "print(f\"Added {project_root} to Python path\")"
   ]
  },
  {
   "cell_type": "code",
   "execution_count": null,
   "id": "ccc5dfb5",
   "metadata": {},
   "outputs": [
    {
     "name": "stderr",
     "output_type": "stream",
     "text": [
      "2025/10/02 15:44:46 INFO mlflow.tracking.fluent: Experiment with name 'MICN_H24_20251002_154446' does not exist. Creating a new experiment.\n"
     ]
    },
    {
     "name": "stdout",
     "output_type": "stream",
     "text": [
      "Using device: mps\n",
      "batch_id: 1759437886\n",
      "[ETTm1 | H=24] Epoch 1/10  Train MSE=0.0727  Val MSE=0.0173 Train MAE=0.1886  Val MAE=0.0995\n",
      "[ETTm1 | H=24] Epoch 2/10  Train MSE=0.0500  Val MSE=0.0151 Train MAE=0.1626  Val MAE=0.0906\n",
      "[ETTm1 | H=24] Epoch 3/10  Train MSE=0.0487  Val MSE=0.0156 Train MAE=0.1597  Val MAE=0.0927\n",
      "[ETTm1 | H=24] Epoch 4/10  Train MSE=0.0477  Val MSE=0.0156 Train MAE=0.1576  Val MAE=0.0924\n",
      "[ETTm1 | H=24] Epoch 5/10  Train MSE=0.0472  Val MSE=0.0160 Train MAE=0.1566  Val MAE=0.0953\n",
      "[ETTm1 | H=24] Epoch 6/10  Train MSE=0.0469  Val MSE=0.0151 Train MAE=0.1560  Val MAE=0.0902\n",
      "[ETTm1 | H=24] Epoch 7/10  Train MSE=0.0465  Val MSE=0.0176 Train MAE=0.1549  Val MAE=0.1015\n",
      "[ETTm1 | H=24] Epoch 8/10  Train MSE=0.0465  Val MSE=0.0147 Train MAE=0.1549  Val MAE=0.0892\n",
      "[ETTm1 | H=24] Epoch 9/10  Train MSE=0.0461  Val MSE=0.0201 Train MAE=0.1540  Val MAE=0.1068\n",
      "[ETTm1 | H=24] Epoch 10/10  Train MSE=0.0459  Val MSE=0.0157 Train MAE=0.1535  Val MAE=0.0949\n"
     ]
    },
    {
     "name": "stderr",
     "output_type": "stream",
     "text": [
      "2025/10/02 15:47:40 INFO mlflow.tracking.fluent: Experiment with name 'MICN_H48_20251002_154740' does not exist. Creating a new experiment.\n"
     ]
    },
    {
     "name": "stdout",
     "output_type": "stream",
     "text": [
      "TEST  MSE=0.0217  MAE=0.1057\n",
      "Using device: mps\n",
      "batch_id: 1759437886\n",
      "[ETTm1 | H=48] Epoch 1/10  Train MSE=0.1071  Val MSE=0.0299 Train MAE=0.2309  Val MAE=0.1280\n",
      "[ETTm1 | H=48] Epoch 2/10  Train MSE=0.0738  Val MSE=0.0272 Train MAE=0.1978  Val MAE=0.1216\n",
      "[ETTm1 | H=48] Epoch 3/10  Train MSE=0.0726  Val MSE=0.0353 Train MAE=0.1957  Val MAE=0.1405\n",
      "[ETTm1 | H=48] Epoch 4/10  Train MSE=0.0718  Val MSE=0.0263 Train MAE=0.1943  Val MAE=0.1238\n",
      "[ETTm1 | H=48] Epoch 5/10  Train MSE=0.0712  Val MSE=0.0265 Train MAE=0.1933  Val MAE=0.1242\n",
      "[ETTm1 | H=48] Epoch 6/10  Train MSE=0.0716  Val MSE=0.0256 Train MAE=0.1937  Val MAE=0.1213\n",
      "[ETTm1 | H=48] Epoch 7/10  Train MSE=0.0707  Val MSE=0.0254 Train MAE=0.1923  Val MAE=0.1203\n",
      "[ETTm1 | H=48] Epoch 8/10  Train MSE=0.0709  Val MSE=0.0243 Train MAE=0.1926  Val MAE=0.1153\n",
      "[ETTm1 | H=48] Epoch 9/10  Train MSE=0.0706  Val MSE=0.0246 Train MAE=0.1921  Val MAE=0.1167\n",
      "[ETTm1 | H=48] Epoch 10/10  Train MSE=0.0705  Val MSE=0.0277 Train MAE=0.1919  Val MAE=0.1238\n"
     ]
    },
    {
     "name": "stderr",
     "output_type": "stream",
     "text": [
      "2025/10/02 15:50:36 INFO mlflow.tracking.fluent: Experiment with name 'MICN_H96_20251002_155036' does not exist. Creating a new experiment.\n"
     ]
    },
    {
     "name": "stdout",
     "output_type": "stream",
     "text": [
      "TEST  MSE=0.0344  MAE=0.1319\n",
      "Using device: mps\n",
      "batch_id: 1759437886\n",
      "[ETTm1 | H=96] Epoch 1/10  Train MSE=0.1228  Val MSE=0.0457 Train MAE=0.2510  Val MAE=0.1594\n",
      "[ETTm1 | H=96] Epoch 2/10  Train MSE=0.1021  Val MSE=0.0376 Train MAE=0.2330  Val MAE=0.1437\n",
      "[ETTm1 | H=96] Epoch 3/10  Train MSE=0.1012  Val MSE=0.0366 Train MAE=0.2315  Val MAE=0.1435\n",
      "[ETTm1 | H=96] Epoch 4/10  Train MSE=0.1008  Val MSE=0.0433 Train MAE=0.2309  Val MAE=0.1559\n",
      "[ETTm1 | H=96] Epoch 5/10  Train MSE=0.1005  Val MSE=0.0431 Train MAE=0.2305  Val MAE=0.1544\n",
      "[ETTm1 | H=96] Epoch 6/10  Train MSE=0.1002  Val MSE=0.0419 Train MAE=0.2300  Val MAE=0.1530\n",
      "[ETTm1 | H=96] Epoch 7/10  Train MSE=0.1002  Val MSE=0.0427 Train MAE=0.2300  Val MAE=0.1524\n",
      "[ETTm1 | H=96] Epoch 8/10  Train MSE=0.1000  Val MSE=0.0361 Train MAE=0.2298  Val MAE=0.1424\n",
      "[ETTm1 | H=96] Epoch 9/10  Train MSE=0.1000  Val MSE=0.0363 Train MAE=0.2297  Val MAE=0.1407\n",
      "[ETTm1 | H=96] Epoch 10/10  Train MSE=0.1002  Val MSE=0.0400 Train MAE=0.2300  Val MAE=0.1470\n"
     ]
    },
    {
     "name": "stderr",
     "output_type": "stream",
     "text": [
      "2025/10/02 15:53:35 INFO mlflow.tracking.fluent: Experiment with name 'MICN_H192_20251002_155335' does not exist. Creating a new experiment.\n"
     ]
    },
    {
     "name": "stdout",
     "output_type": "stream",
     "text": [
      "TEST  MSE=0.0488  MAE=0.1594\n",
      "Using device: mps\n",
      "batch_id: 1759437886\n",
      "[ETTm1 | H=192] Epoch 1/10  Train MSE=0.1697  Val MSE=0.0610 Train MAE=0.3012  Val MAE=0.1812\n",
      "[ETTm1 | H=192] Epoch 2/10  Train MSE=0.1536  Val MSE=0.0687 Train MAE=0.2879  Val MAE=0.1944\n",
      "[ETTm1 | H=192] Epoch 3/10  Train MSE=0.1525  Val MSE=0.0695 Train MAE=0.2865  Val MAE=0.1954\n",
      "[ETTm1 | H=192] Epoch 4/10  Train MSE=0.1522  Val MSE=0.0736 Train MAE=0.2860  Val MAE=0.1991\n",
      "[ETTm1 | H=192] Epoch 5/10  Train MSE=0.1521  Val MSE=0.0709 Train MAE=0.2859  Val MAE=0.1936\n",
      "[ETTm1 | H=192] Epoch 6/10  Train MSE=0.1518  Val MSE=0.0643 Train MAE=0.2856  Val MAE=0.1841\n",
      "[ETTm1 | H=192] Epoch 7/10  Train MSE=0.1518  Val MSE=0.0701 Train MAE=0.2856  Val MAE=0.1925\n",
      "[ETTm1 | H=192] Epoch 8/10  Train MSE=0.1518  Val MSE=0.0667 Train MAE=0.2855  Val MAE=0.1880\n",
      "[ETTm1 | H=192] Epoch 9/10  Train MSE=0.1516  Val MSE=0.0748 Train MAE=0.2855  Val MAE=0.2004\n",
      "[ETTm1 | H=192] Epoch 10/10  Train MSE=0.1517  Val MSE=0.0767 Train MAE=0.2855  Val MAE=0.2039\n"
     ]
    },
    {
     "name": "stderr",
     "output_type": "stream",
     "text": [
      "2025/10/02 15:56:50 INFO mlflow.tracking.fluent: Experiment with name 'MICN_H336_20251002_155650' does not exist. Creating a new experiment.\n"
     ]
    },
    {
     "name": "stdout",
     "output_type": "stream",
     "text": [
      "TEST  MSE=0.0819  MAE=0.2098\n",
      "Using device: mps\n",
      "batch_id: 1759437886\n",
      "[ETTm1 | H=336] Epoch 1/10  Train MSE=0.2134  Val MSE=0.1162 Train MAE=0.3428  Val MAE=0.2545\n",
      "[ETTm1 | H=336] Epoch 2/10  Train MSE=0.1960  Val MSE=0.0908 Train MAE=0.3302  Val MAE=0.2206\n",
      "[ETTm1 | H=336] Epoch 3/10  Train MSE=0.1953  Val MSE=0.0720 Train MAE=0.3295  Val MAE=0.2082\n",
      "[ETTm1 | H=336] Epoch 4/10  Train MSE=0.1953  Val MSE=0.0920 Train MAE=0.3294  Val MAE=0.2220\n",
      "[ETTm1 | H=336] Epoch 5/10  Train MSE=0.1953  Val MSE=0.0840 Train MAE=0.3293  Val MAE=0.2100\n",
      "[ETTm1 | H=336] Epoch 6/10  Train MSE=0.1953  Val MSE=0.0717 Train MAE=0.3294  Val MAE=0.1999\n",
      "[ETTm1 | H=336] Epoch 7/10  Train MSE=0.1949  Val MSE=0.1052 Train MAE=0.3290  Val MAE=0.2383\n",
      "[ETTm1 | H=336] Epoch 8/10  Train MSE=0.1952  Val MSE=0.0917 Train MAE=0.3291  Val MAE=0.2229\n",
      "[ETTm1 | H=336] Epoch 9/10  Train MSE=0.1950  Val MSE=0.0722 Train MAE=0.3291  Val MAE=0.2044\n",
      "[ETTm1 | H=336] Epoch 10/10  Train MSE=0.1948  Val MSE=0.0871 Train MAE=0.3289  Val MAE=0.2128\n"
     ]
    },
    {
     "name": "stderr",
     "output_type": "stream",
     "text": [
      "2025/10/02 16:00:30 INFO mlflow.tracking.fluent: Experiment with name 'MICN_H720_20251002_160030' does not exist. Creating a new experiment.\n"
     ]
    },
    {
     "name": "stdout",
     "output_type": "stream",
     "text": [
      "TEST  MSE=0.1108  MAE=0.2491\n",
      "Using device: mps\n",
      "batch_id: 1759437886\n",
      "[ETTm1 | H=720] Epoch 1/10  Train MSE=0.2563  Val MSE=0.1282 Train MAE=0.3823  Val MAE=0.2695\n",
      "[ETTm1 | H=720] Epoch 2/10  Train MSE=0.2392  Val MSE=0.1199 Train MAE=0.3712  Val MAE=0.2603\n",
      "[ETTm1 | H=720] Epoch 3/10  Train MSE=0.2386  Val MSE=0.1167 Train MAE=0.3706  Val MAE=0.2565\n",
      "[ETTm1 | H=720] Epoch 4/10  Train MSE=0.2389  Val MSE=0.1451 Train MAE=0.3709  Val MAE=0.2883\n",
      "[ETTm1 | H=720] Epoch 5/10  Train MSE=0.2385  Val MSE=0.1485 Train MAE=0.3705  Val MAE=0.2883\n",
      "[ETTm1 | H=720] Epoch 6/10  Train MSE=0.2392  Val MSE=0.1111 Train MAE=0.3710  Val MAE=0.2543\n",
      "[ETTm1 | H=720] Epoch 7/10  Train MSE=0.2385  Val MSE=0.1467 Train MAE=0.3704  Val MAE=0.2859\n",
      "[ETTm1 | H=720] Epoch 8/10  Train MSE=0.2389  Val MSE=0.1193 Train MAE=0.3709  Val MAE=0.2586\n",
      "[ETTm1 | H=720] Epoch 9/10  Train MSE=0.2392  Val MSE=0.1149 Train MAE=0.3711  Val MAE=0.2592\n",
      "[ETTm1 | H=720] Epoch 10/10  Train MSE=0.2387  Val MSE=0.1248 Train MAE=0.3707  Val MAE=0.2651\n",
      "TEST  MSE=0.1454  MAE=0.2905\n"
     ]
    }
   ],
   "source": [
    "import time\n",
    "from experiments.trainer import train_and_eval_model\n",
    "\n",
    "batch_id = str(int(time.time()))\n",
    "datasets = [\"ETTh1\", \"ETTh2\", \"ETTm1\", \"ETTm2\"]\n",
    "horizons = [24, 48, 96, 192, 336, 720]\n",
    "for dataset in datasets:\n",
    "    for horizon in horizons:\n",
    "        params = {\n",
    "            \"dataset\": dataset,\n",
    "            \"input_len\": 96,\n",
    "            \"output_len\": horizon,\n",
    "            \"d_model\": 64,\n",
    "            \"n_layers\": 2,\n",
    "            \"scales\": [12, 24, 48],\n",
    "            \"batch_size\": 64,\n",
    "            \"epochs\": 10,\n",
    "            \"learning_rate\": 1e-3,\n",
    "            \"weight_decay\": 1e-4\n",
    "        }\n",
    "        train_and_eval_model(params, batch_id=batch_id)\n",
    "\n",
    "print(\"All experiments completed.\")"
   ]
  },
  {
   "cell_type": "markdown",
   "id": "3bc2eb19",
   "metadata": {},
   "source": []
  }
 ],
 "metadata": {
  "kernelspec": {
   "display_name": "envlab02",
   "language": "python",
   "name": "python3"
  },
  "language_info": {
   "codemirror_mode": {
    "name": "ipython",
    "version": 3
   },
   "file_extension": ".py",
   "mimetype": "text/x-python",
   "name": "python",
   "nbconvert_exporter": "python",
   "pygments_lexer": "ipython3",
   "version": "3.10.0"
  }
 },
 "nbformat": 4,
 "nbformat_minor": 5
}
