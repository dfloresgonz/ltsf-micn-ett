{
 "cells": [
  {
   "cell_type": "code",
   "execution_count": 1,
   "id": "56ec8063",
   "metadata": {},
   "outputs": [
    {
     "name": "stdout",
     "output_type": "stream",
     "text": [
      "Added /Users/diego/Documents/maestriaUTEC/ciclo05/deeplearning/lab02 to Python path\n"
     ]
    }
   ],
   "source": [
    "import sys\n",
    "import os\n",
    "\n",
    "project_root = os.path.abspath(os.path.join(os.getcwd(), '..'))\n",
    "if project_root not in sys.path:\n",
    "    sys.path.insert(0, project_root)\n",
    "\n",
    "print(f\"Added {project_root} to Python path\")"
   ]
  },
  {
   "cell_type": "code",
   "execution_count": 2,
   "id": "ccc5dfb5",
   "metadata": {},
   "outputs": [
    {
     "name": "stderr",
     "output_type": "stream",
     "text": [
      "2025/10/04 12:33:08 INFO mlflow.tracking.fluent: Experiment with name 'MICN_H24_20251004_123307_multifeature' does not exist. Creating a new experiment.\n"
     ]
    },
    {
     "name": "stdout",
     "output_type": "stream",
     "text": [
      "Using device: mps\n",
      "batch_id: 1759599187\n",
      "[ETTh1 | H=24] Epoch 1/10  Train MSE=92.8001  Val MSE=54.1558 Train MAE=6.5292  Val MAE=7.0355\n",
      "[ETTh1 | H=24] Epoch 2/10  Train MSE=88.2004  Val MSE=55.1621 Train MAE=6.6356  Val MAE=7.0891\n",
      "[ETTh1 | H=24] Epoch 3/10  Train MSE=88.2798  Val MSE=51.3451 Train MAE=6.6459  Val MAE=6.8230\n",
      "[ETTh1 | H=24] Epoch 4/10  Train MSE=89.1959  Val MSE=58.7365 Train MAE=6.6068  Val MAE=7.3219\n",
      "[ETTh1 | H=24] Epoch 5/10  Train MSE=88.1600  Val MSE=53.5453 Train MAE=6.6307  Val MAE=6.9482\n",
      "[ETTh1 | H=24] Epoch 6/10  Train MSE=88.2159  Val MSE=54.9215 Train MAE=6.6324  Val MAE=7.0653\n",
      "[ETTh1 | H=24] Epoch 7/10  Train MSE=88.1637  Val MSE=51.8624 Train MAE=6.6462  Val MAE=6.8400\n",
      "[ETTh1 | H=24] Epoch 8/10  Train MSE=88.1535  Val MSE=56.6593 Train MAE=6.6274  Val MAE=7.1668\n",
      "[ETTh1 | H=24] Epoch 9/10  Train MSE=88.0952  Val MSE=53.4437 Train MAE=6.6284  Val MAE=6.9562\n",
      "[ETTh1 | H=24] Epoch 10/10  Train MSE=88.1521  Val MSE=53.7909 Train MAE=6.6232  Val MAE=6.9793\n"
     ]
    },
    {
     "name": "stderr",
     "output_type": "stream",
     "text": [
      "2025/10/04 12:34:09 INFO mlflow.tracking.fluent: Experiment with name 'MICN_H48_20251004_123409_multifeature' does not exist. Creating a new experiment.\n"
     ]
    },
    {
     "name": "stdout",
     "output_type": "stream",
     "text": [
      "TEST  MSE=34.4325  MAE=5.4592\n",
      "Using device: mps\n",
      "batch_id: 1759599187\n",
      "[ETTh1 | H=48] Epoch 1/10  Train MSE=89.7996  Val MSE=49.4099 Train MAE=6.5947  Val MAE=6.6759\n",
      "[ETTh1 | H=48] Epoch 2/10  Train MSE=88.0521  Val MSE=54.5313 Train MAE=6.6400  Val MAE=7.0117\n",
      "[ETTh1 | H=48] Epoch 3/10  Train MSE=88.0408  Val MSE=57.7011 Train MAE=6.6240  Val MAE=7.2500\n",
      "[ETTh1 | H=48] Epoch 4/10  Train MSE=88.0290  Val MSE=57.4397 Train MAE=6.6413  Val MAE=7.2391\n",
      "[ETTh1 | H=48] Epoch 5/10  Train MSE=88.0239  Val MSE=58.0629 Train MAE=6.6416  Val MAE=7.2562\n",
      "[ETTh1 | H=48] Epoch 6/10  Train MSE=88.0875  Val MSE=58.5844 Train MAE=6.6345  Val MAE=7.3246\n",
      "[ETTh1 | H=48] Epoch 7/10  Train MSE=88.0270  Val MSE=52.9480 Train MAE=6.6432  Val MAE=6.8898\n",
      "[ETTh1 | H=48] Epoch 8/10  Train MSE=88.0425  Val MSE=54.7328 Train MAE=6.6331  Val MAE=7.0595\n",
      "[ETTh1 | H=48] Epoch 9/10  Train MSE=88.0287  Val MSE=53.7415 Train MAE=6.6378  Val MAE=6.9978\n",
      "[ETTh1 | H=48] Epoch 10/10  Train MSE=88.0175  Val MSE=56.4432 Train MAE=6.6256  Val MAE=7.1662\n"
     ]
    },
    {
     "name": "stderr",
     "output_type": "stream",
     "text": [
      "2025/10/04 12:35:08 INFO mlflow.tracking.fluent: Experiment with name 'MICN_H96_20251004_123508_multifeature' does not exist. Creating a new experiment.\n"
     ]
    },
    {
     "name": "stdout",
     "output_type": "stream",
     "text": [
      "TEST  MSE=36.4580  MAE=5.6287\n",
      "Using device: mps\n",
      "batch_id: 1759599187\n",
      "[ETTh1 | H=96] Epoch 1/10  Train MSE=89.4336  Val MSE=48.7190 Train MAE=6.6014  Val MAE=6.6407\n",
      "[ETTh1 | H=96] Epoch 2/10  Train MSE=87.7915  Val MSE=52.1731 Train MAE=6.6226  Val MAE=6.8955\n",
      "[ETTh1 | H=96] Epoch 3/10  Train MSE=87.7971  Val MSE=54.8875 Train MAE=6.6188  Val MAE=7.0601\n",
      "[ETTh1 | H=96] Epoch 4/10  Train MSE=87.7906  Val MSE=50.8396 Train MAE=6.6232  Val MAE=6.7753\n",
      "[ETTh1 | H=96] Epoch 5/10  Train MSE=87.7342  Val MSE=54.6405 Train MAE=6.6230  Val MAE=7.0408\n",
      "[ETTh1 | H=96] Epoch 6/10  Train MSE=87.7865  Val MSE=50.4505 Train MAE=6.6374  Val MAE=6.7690\n",
      "[ETTh1 | H=96] Epoch 7/10  Train MSE=87.8192  Val MSE=54.0017 Train MAE=6.6338  Val MAE=7.0141\n",
      "[ETTh1 | H=96] Epoch 8/10  Train MSE=87.7729  Val MSE=53.1327 Train MAE=6.6310  Val MAE=6.9407\n",
      "[ETTh1 | H=96] Epoch 9/10  Train MSE=87.7353  Val MSE=56.4678 Train MAE=6.6241  Val MAE=7.1645\n",
      "[ETTh1 | H=96] Epoch 10/10  Train MSE=87.6027  Val MSE=50.9166 Train MAE=6.6218  Val MAE=6.7949\n"
     ]
    },
    {
     "name": "stderr",
     "output_type": "stream",
     "text": [
      "2025/10/04 12:36:06 INFO mlflow.tracking.fluent: Experiment with name 'MICN_H192_20251004_123606_multifeature' does not exist. Creating a new experiment.\n"
     ]
    },
    {
     "name": "stdout",
     "output_type": "stream",
     "text": [
      "TEST  MSE=33.7856  MAE=5.3826\n",
      "Using device: mps\n",
      "batch_id: 1759599187\n",
      "[ETTh1 | H=192] Epoch 1/10  Train MSE=89.6784  Val MSE=54.4297 Train MAE=6.5327  Val MAE=7.0464\n",
      "[ETTh1 | H=192] Epoch 2/10  Train MSE=87.0298  Val MSE=52.9455 Train MAE=6.5999  Val MAE=6.9461\n",
      "[ETTh1 | H=192] Epoch 3/10  Train MSE=87.0746  Val MSE=51.4623 Train MAE=6.5919  Val MAE=6.8395\n",
      "[ETTh1 | H=192] Epoch 4/10  Train MSE=86.9350  Val MSE=49.1875 Train MAE=6.5910  Val MAE=6.6845\n",
      "[ETTh1 | H=192] Epoch 5/10  Train MSE=86.9445  Val MSE=49.2468 Train MAE=6.5932  Val MAE=6.6707\n",
      "[ETTh1 | H=192] Epoch 6/10  Train MSE=87.1928  Val MSE=53.6012 Train MAE=6.5840  Val MAE=6.9894\n",
      "[ETTh1 | H=192] Epoch 7/10  Train MSE=86.9300  Val MSE=49.8742 Train MAE=6.5913  Val MAE=6.7346\n",
      "[ETTh1 | H=192] Epoch 8/10  Train MSE=86.9310  Val MSE=56.0864 Train MAE=6.5939  Val MAE=7.1690\n",
      "[ETTh1 | H=192] Epoch 9/10  Train MSE=86.9636  Val MSE=53.8697 Train MAE=6.5939  Val MAE=7.0168\n",
      "[ETTh1 | H=192] Epoch 10/10  Train MSE=86.9931  Val MSE=54.7274 Train MAE=6.6149  Val MAE=7.0536\n"
     ]
    },
    {
     "name": "stderr",
     "output_type": "stream",
     "text": [
      "2025/10/04 12:37:11 INFO mlflow.tracking.fluent: Experiment with name 'MICN_H336_20251004_123711_multifeature' does not exist. Creating a new experiment.\n"
     ]
    },
    {
     "name": "stdout",
     "output_type": "stream",
     "text": [
      "TEST  MSE=36.4696  MAE=5.5950\n",
      "Using device: mps\n",
      "batch_id: 1759599187\n",
      "[ETTh1 | H=336] Epoch 1/10  Train MSE=87.7116  Val MSE=44.9979 Train MAE=6.5067  Val MAE=6.3937\n",
      "[ETTh1 | H=336] Epoch 2/10  Train MSE=85.5722  Val MSE=48.7600 Train MAE=6.5474  Val MAE=6.6602\n",
      "[ETTh1 | H=336] Epoch 3/10  Train MSE=85.5302  Val MSE=50.3016 Train MAE=6.5308  Val MAE=6.7865\n",
      "[ETTh1 | H=336] Epoch 4/10  Train MSE=85.5261  Val MSE=49.9034 Train MAE=6.5507  Val MAE=6.7378\n",
      "[ETTh1 | H=336] Epoch 5/10  Train MSE=85.5306  Val MSE=50.7534 Train MAE=6.5401  Val MAE=6.8123\n",
      "[ETTh1 | H=336] Epoch 6/10  Train MSE=85.5777  Val MSE=48.8090 Train MAE=6.5380  Val MAE=6.6715\n",
      "[ETTh1 | H=336] Epoch 7/10  Train MSE=85.5009  Val MSE=48.0628 Train MAE=6.5551  Val MAE=6.5993\n",
      "[ETTh1 | H=336] Epoch 8/10  Train MSE=85.5741  Val MSE=47.4044 Train MAE=6.5552  Val MAE=6.5622\n",
      "[ETTh1 | H=336] Epoch 9/10  Train MSE=85.5988  Val MSE=53.0344 Train MAE=6.5371  Val MAE=6.9691\n",
      "[ETTh1 | H=336] Epoch 10/10  Train MSE=85.6094  Val MSE=49.2076 Train MAE=6.5394  Val MAE=6.6974\n"
     ]
    },
    {
     "name": "stderr",
     "output_type": "stream",
     "text": [
      "2025/10/04 12:38:36 INFO mlflow.tracking.fluent: Experiment with name 'MICN_H720_20251004_123836_multifeature' does not exist. Creating a new experiment.\n"
     ]
    },
    {
     "name": "stdout",
     "output_type": "stream",
     "text": [
      "TEST  MSE=35.3660  MAE=5.4808\n",
      "Using device: mps\n",
      "batch_id: 1759599187\n",
      "[ETTh1 | H=720] Epoch 1/10  Train MSE=81.4531  Val MSE=44.4333 Train MAE=6.3460  Val MAE=6.3601\n",
      "[ETTh1 | H=720] Epoch 2/10  Train MSE=80.1132  Val MSE=46.1631 Train MAE=6.3860  Val MAE=6.4912\n",
      "[ETTh1 | H=720] Epoch 3/10  Train MSE=80.2474  Val MSE=44.8798 Train MAE=6.3711  Val MAE=6.3868\n",
      "[ETTh1 | H=720] Epoch 4/10  Train MSE=80.1299  Val MSE=42.9520 Train MAE=6.3793  Val MAE=6.2495\n",
      "[ETTh1 | H=720] Epoch 5/10  Train MSE=80.0255  Val MSE=42.5619 Train MAE=6.3710  Val MAE=6.2119\n",
      "[ETTh1 | H=720] Epoch 6/10  Train MSE=80.6546  Val MSE=46.8650 Train MAE=6.3450  Val MAE=6.5356\n",
      "[ETTh1 | H=720] Epoch 7/10  Train MSE=80.0691  Val MSE=44.9275 Train MAE=6.3702  Val MAE=6.3970\n",
      "[ETTh1 | H=720] Epoch 8/10  Train MSE=80.0414  Val MSE=42.5450 Train MAE=6.3778  Val MAE=6.2177\n",
      "[ETTh1 | H=720] Epoch 9/10  Train MSE=80.0661  Val MSE=41.3272 Train MAE=6.3738  Val MAE=6.1228\n",
      "[ETTh1 | H=720] Epoch 10/10  Train MSE=80.0250  Val MSE=45.4114 Train MAE=6.3720  Val MAE=6.4321\n",
      "TEST  MSE=36.6601  MAE=5.5580\n",
      "All experiments completed.\n"
     ]
    }
   ],
   "source": [
    "import time\n",
    "from experiments.trainer import train_and_eval_model\n",
    "\n",
    "batch_id = str(int(time.time()))\n",
    "datasets = [\"ETTh1\"]\n",
    "# datasets = [\"ETTh1\", \"ETTh2\", \"ETTm1\", \"ETTm2\"]\n",
    "horizons = [24, 48, 96, 192, 336, 720]\n",
    "for dataset in datasets:\n",
    "    for horizon in horizons:\n",
    "        params = {\n",
    "            \"dataset\": dataset,\n",
    "            \"input_len\": 96,\n",
    "            \"output_len\": horizon,\n",
    "            \"d_model\": 64,\n",
    "            \"n_layers\": 2,\n",
    "            \"scales\": [12, 24, 48],\n",
    "            \"batch_size\": 64,\n",
    "            \"epochs\": 10,\n",
    "            \"learning_rate\": 1e-3,\n",
    "            \"weight_decay\": 1e-4\n",
    "        }\n",
    "        train_and_eval_model(params, batch_id=batch_id)\n",
    "\n",
    "print(\"All experiments completed.\")"
   ]
  },
  {
   "cell_type": "code",
   "execution_count": null,
   "id": "af9918c9",
   "metadata": {},
   "outputs": [],
   "source": []
  },
  {
   "cell_type": "markdown",
   "id": "3bc2eb19",
   "metadata": {},
   "source": []
  }
 ],
 "metadata": {
  "kernelspec": {
   "display_name": "envlab02",
   "language": "python",
   "name": "python3"
  },
  "language_info": {
   "codemirror_mode": {
    "name": "ipython",
    "version": 3
   },
   "file_extension": ".py",
   "mimetype": "text/x-python",
   "name": "python",
   "nbconvert_exporter": "python",
   "pygments_lexer": "ipython3",
   "version": "3.10.0"
  }
 },
 "nbformat": 4,
 "nbformat_minor": 5
}
