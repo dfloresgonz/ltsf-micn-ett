{
 "cells": [
  {
   "cell_type": "code",
   "execution_count": 1,
   "id": "56ec8063",
   "metadata": {},
   "outputs": [
    {
     "name": "stdout",
     "output_type": "stream",
     "text": [
      "Added /Users/diego/Documents/maestriaUTEC/ciclo05/deeplearning/lab02 to Python path\n"
     ]
    }
   ],
   "source": [
    "import sys\n",
    "import os\n",
    "\n",
    "project_root = os.path.abspath(os.path.join(os.getcwd(), '..'))\n",
    "if project_root not in sys.path:\n",
    "    sys.path.insert(0, project_root)\n",
    "\n",
    "print(f\"Added {project_root} to Python path\")"
   ]
  },
  {
   "cell_type": "code",
   "execution_count": 2,
   "id": "ccc5dfb5",
   "metadata": {},
   "outputs": [
    {
     "name": "stderr",
     "output_type": "stream",
     "text": [
      "2025/10/02 16:46:34 INFO mlflow.tracking.fluent: Experiment with name 'MICN_H24_20251002_164634' does not exist. Creating a new experiment.\n"
     ]
    },
    {
     "name": "stdout",
     "output_type": "stream",
     "text": [
      "Using device: mps\n",
      "batch_id: 1759441594\n",
      "[ETTh1 | H=24] Epoch 1/10  Train MSE=0.1750  Val MSE=0.0459 Train MAE=0.3049  Val MAE=0.1585\n",
      "[ETTh1 | H=24] Epoch 2/10  Train MSE=0.1136  Val MSE=0.0414 Train MAE=0.2534  Val MAE=0.1580\n",
      "[ETTh1 | H=24] Epoch 3/10  Train MSE=0.1094  Val MSE=0.0417 Train MAE=0.2479  Val MAE=0.1512\n",
      "[ETTh1 | H=24] Epoch 4/10  Train MSE=0.1075  Val MSE=0.0486 Train MAE=0.2456  Val MAE=0.1638\n",
      "[ETTh1 | H=24] Epoch 5/10  Train MSE=0.1056  Val MSE=0.0388 Train MAE=0.2428  Val MAE=0.1514\n",
      "[ETTh1 | H=24] Epoch 6/10  Train MSE=0.1036  Val MSE=0.0397 Train MAE=0.2399  Val MAE=0.1520\n",
      "[ETTh1 | H=24] Epoch 7/10  Train MSE=0.1029  Val MSE=0.0554 Train MAE=0.2391  Val MAE=0.1766\n",
      "[ETTh1 | H=24] Epoch 8/10  Train MSE=0.1022  Val MSE=0.0426 Train MAE=0.2379  Val MAE=0.1522\n",
      "[ETTh1 | H=24] Epoch 9/10  Train MSE=0.1008  Val MSE=0.0395 Train MAE=0.2360  Val MAE=0.1478\n",
      "[ETTh1 | H=24] Epoch 10/10  Train MSE=0.1006  Val MSE=0.0378 Train MAE=0.2356  Val MAE=0.1451\n"
     ]
    },
    {
     "name": "stderr",
     "output_type": "stream",
     "text": [
      "2025/10/02 16:47:19 INFO mlflow.tracking.fluent: Experiment with name 'MICN_H48_20251002_164719' does not exist. Creating a new experiment.\n"
     ]
    },
    {
     "name": "stdout",
     "output_type": "stream",
     "text": [
      "TEST  MSE=0.0512  MAE=0.1693\n",
      "Using device: mps\n",
      "batch_id: 1759441594\n",
      "[ETTh1 | H=48] Epoch 1/10  Train MSE=0.2656  Val MSE=0.0617 Train MAE=0.3729  Val MAE=0.1830\n",
      "[ETTh1 | H=48] Epoch 2/10  Train MSE=0.1545  Val MSE=0.0649 Train MAE=0.2965  Val MAE=0.1857\n",
      "[ETTh1 | H=48] Epoch 3/10  Train MSE=0.1495  Val MSE=0.0660 Train MAE=0.2906  Val MAE=0.1876\n",
      "[ETTh1 | H=48] Epoch 4/10  Train MSE=0.1469  Val MSE=0.0589 Train MAE=0.2876  Val MAE=0.1785\n",
      "[ETTh1 | H=48] Epoch 5/10  Train MSE=0.1451  Val MSE=0.0723 Train MAE=0.2856  Val MAE=0.1995\n",
      "[ETTh1 | H=48] Epoch 6/10  Train MSE=0.1446  Val MSE=0.0699 Train MAE=0.2849  Val MAE=0.1918\n",
      "[ETTh1 | H=48] Epoch 7/10  Train MSE=0.1431  Val MSE=0.0698 Train MAE=0.2829  Val MAE=0.1935\n",
      "[ETTh1 | H=48] Epoch 8/10  Train MSE=0.1431  Val MSE=0.0693 Train MAE=0.2826  Val MAE=0.1923\n",
      "[ETTh1 | H=48] Epoch 9/10  Train MSE=0.1422  Val MSE=0.0592 Train MAE=0.2817  Val MAE=0.1784\n",
      "[ETTh1 | H=48] Epoch 10/10  Train MSE=0.1408  Val MSE=0.0581 Train MAE=0.2799  Val MAE=0.1770\n"
     ]
    },
    {
     "name": "stderr",
     "output_type": "stream",
     "text": [
      "2025/10/02 16:48:03 INFO mlflow.tracking.fluent: Experiment with name 'MICN_H96_20251002_164803' does not exist. Creating a new experiment.\n"
     ]
    },
    {
     "name": "stdout",
     "output_type": "stream",
     "text": [
      "TEST  MSE=0.0758  MAE=0.2104\n",
      "Using device: mps\n",
      "batch_id: 1759441594\n",
      "[ETTh1 | H=96] Epoch 1/10  Train MSE=0.2420  Val MSE=0.0801 Train MAE=0.3683  Val MAE=0.2121\n",
      "[ETTh1 | H=96] Epoch 2/10  Train MSE=0.1895  Val MSE=0.0898 Train MAE=0.3327  Val MAE=0.2227\n",
      "[ETTh1 | H=96] Epoch 3/10  Train MSE=0.1872  Val MSE=0.0898 Train MAE=0.3302  Val MAE=0.2205\n",
      "[ETTh1 | H=96] Epoch 4/10  Train MSE=0.1834  Val MSE=0.1091 Train MAE=0.3264  Val MAE=0.2415\n",
      "[ETTh1 | H=96] Epoch 5/10  Train MSE=0.1822  Val MSE=0.0771 Train MAE=0.3251  Val MAE=0.2071\n",
      "[ETTh1 | H=96] Epoch 6/10  Train MSE=0.1812  Val MSE=0.0783 Train MAE=0.3237  Val MAE=0.2106\n",
      "[ETTh1 | H=96] Epoch 7/10  Train MSE=0.1803  Val MSE=0.0830 Train MAE=0.3226  Val MAE=0.2118\n",
      "[ETTh1 | H=96] Epoch 8/10  Train MSE=0.1794  Val MSE=0.0882 Train MAE=0.3216  Val MAE=0.2165\n",
      "[ETTh1 | H=96] Epoch 9/10  Train MSE=0.1794  Val MSE=0.0812 Train MAE=0.3213  Val MAE=0.2100\n",
      "[ETTh1 | H=96] Epoch 10/10  Train MSE=0.1783  Val MSE=0.1145 Train MAE=0.3206  Val MAE=0.2526\n"
     ]
    },
    {
     "name": "stderr",
     "output_type": "stream",
     "text": [
      "2025/10/02 16:48:48 INFO mlflow.tracking.fluent: Experiment with name 'MICN_H192_20251002_164848' does not exist. Creating a new experiment.\n"
     ]
    },
    {
     "name": "stdout",
     "output_type": "stream",
     "text": [
      "TEST  MSE=0.1144  MAE=0.2595\n",
      "Using device: mps\n",
      "batch_id: 1759441594\n",
      "[ETTh1 | H=192] Epoch 1/10  Train MSE=0.2623  Val MSE=0.1316 Train MAE=0.3875  Val MAE=0.2747\n",
      "[ETTh1 | H=192] Epoch 2/10  Train MSE=0.2167  Val MSE=0.1050 Train MAE=0.3586  Val MAE=0.2474\n",
      "[ETTh1 | H=192] Epoch 3/10  Train MSE=0.2129  Val MSE=0.1140 Train MAE=0.3549  Val MAE=0.2552\n",
      "[ETTh1 | H=192] Epoch 4/10  Train MSE=0.2119  Val MSE=0.1369 Train MAE=0.3536  Val MAE=0.2803\n",
      "[ETTh1 | H=192] Epoch 5/10  Train MSE=0.2107  Val MSE=0.1045 Train MAE=0.3524  Val MAE=0.2473\n",
      "[ETTh1 | H=192] Epoch 6/10  Train MSE=0.2098  Val MSE=0.1253 Train MAE=0.3516  Val MAE=0.2641\n",
      "[ETTh1 | H=192] Epoch 7/10  Train MSE=0.2083  Val MSE=0.1295 Train MAE=0.3500  Val MAE=0.2710\n",
      "[ETTh1 | H=192] Epoch 8/10  Train MSE=0.2086  Val MSE=0.1161 Train MAE=0.3499  Val MAE=0.2568\n",
      "[ETTh1 | H=192] Epoch 9/10  Train MSE=0.2072  Val MSE=0.1409 Train MAE=0.3486  Val MAE=0.2831\n",
      "[ETTh1 | H=192] Epoch 10/10  Train MSE=0.2082  Val MSE=0.1011 Train MAE=0.3496  Val MAE=0.2441\n"
     ]
    },
    {
     "name": "stderr",
     "output_type": "stream",
     "text": [
      "2025/10/02 16:49:33 INFO mlflow.tracking.fluent: Experiment with name 'MICN_H336_20251002_164933' does not exist. Creating a new experiment.\n"
     ]
    },
    {
     "name": "stdout",
     "output_type": "stream",
     "text": [
      "TEST  MSE=0.1334  MAE=0.2831\n",
      "Using device: mps\n",
      "batch_id: 1759441594\n",
      "[ETTh1 | H=336] Epoch 1/10  Train MSE=0.2808  Val MSE=0.1422 Train MAE=0.4030  Val MAE=0.2939\n",
      "[ETTh1 | H=336] Epoch 2/10  Train MSE=0.2322  Val MSE=0.1243 Train MAE=0.3747  Val MAE=0.2780\n",
      "[ETTh1 | H=336] Epoch 3/10  Train MSE=0.2304  Val MSE=0.1449 Train MAE=0.3729  Val MAE=0.2978\n",
      "[ETTh1 | H=336] Epoch 4/10  Train MSE=0.2299  Val MSE=0.1289 Train MAE=0.3720  Val MAE=0.2820\n",
      "[ETTh1 | H=336] Epoch 5/10  Train MSE=0.2276  Val MSE=0.1281 Train MAE=0.3702  Val MAE=0.2811\n",
      "[ETTh1 | H=336] Epoch 6/10  Train MSE=0.2261  Val MSE=0.1669 Train MAE=0.3688  Val MAE=0.3209\n",
      "[ETTh1 | H=336] Epoch 7/10  Train MSE=0.2265  Val MSE=0.2017 Train MAE=0.3687  Val MAE=0.3561\n",
      "[ETTh1 | H=336] Epoch 8/10  Train MSE=0.2252  Val MSE=0.1344 Train MAE=0.3677  Val MAE=0.2880\n",
      "[ETTh1 | H=336] Epoch 9/10  Train MSE=0.2248  Val MSE=0.1308 Train MAE=0.3673  Val MAE=0.2837\n",
      "[ETTh1 | H=336] Epoch 10/10  Train MSE=0.2247  Val MSE=0.1397 Train MAE=0.3671  Val MAE=0.2927\n"
     ]
    },
    {
     "name": "stderr",
     "output_type": "stream",
     "text": [
      "2025/10/02 16:50:22 INFO mlflow.tracking.fluent: Experiment with name 'MICN_H720_20251002_165022' does not exist. Creating a new experiment.\n"
     ]
    },
    {
     "name": "stdout",
     "output_type": "stream",
     "text": [
      "TEST  MSE=0.1249  MAE=0.2760\n",
      "Using device: mps\n",
      "batch_id: 1759441594\n",
      "[ETTh1 | H=720] Epoch 1/10  Train MSE=0.3256  Val MSE=0.1839 Train MAE=0.4354  Val MAE=0.3476\n",
      "[ETTh1 | H=720] Epoch 2/10  Train MSE=0.2759  Val MSE=0.1688 Train MAE=0.4081  Val MAE=0.3295\n",
      "[ETTh1 | H=720] Epoch 3/10  Train MSE=0.2729  Val MSE=0.2096 Train MAE=0.4056  Val MAE=0.3757\n",
      "[ETTh1 | H=720] Epoch 4/10  Train MSE=0.2729  Val MSE=0.1738 Train MAE=0.4055  Val MAE=0.3373\n",
      "[ETTh1 | H=720] Epoch 5/10  Train MSE=0.2750  Val MSE=0.1996 Train MAE=0.4069  Val MAE=0.3666\n",
      "[ETTh1 | H=720] Epoch 6/10  Train MSE=0.2703  Val MSE=0.1585 Train MAE=0.4033  Val MAE=0.3181\n",
      "[ETTh1 | H=720] Epoch 7/10  Train MSE=0.2694  Val MSE=0.2034 Train MAE=0.4024  Val MAE=0.3690\n",
      "[ETTh1 | H=720] Epoch 8/10  Train MSE=0.2689  Val MSE=0.1782 Train MAE=0.4021  Val MAE=0.3412\n",
      "[ETTh1 | H=720] Epoch 9/10  Train MSE=0.2684  Val MSE=0.1636 Train MAE=0.4014  Val MAE=0.3242\n",
      "[ETTh1 | H=720] Epoch 10/10  Train MSE=0.2692  Val MSE=0.2145 Train MAE=0.4022  Val MAE=0.3803\n"
     ]
    },
    {
     "name": "stderr",
     "output_type": "stream",
     "text": [
      "2025/10/02 16:51:45 INFO mlflow.tracking.fluent: Experiment with name 'MICN_H24_20251002_165145' does not exist. Creating a new experiment.\n"
     ]
    },
    {
     "name": "stdout",
     "output_type": "stream",
     "text": [
      "TEST  MSE=0.1419  MAE=0.3027\n",
      "Using device: mps\n",
      "batch_id: 1759441594\n",
      "[ETTh2 | H=24] Epoch 1/10  Train MSE=0.2266  Val MSE=0.1163 Train MAE=0.3517  Val MAE=0.2698\n",
      "[ETTh2 | H=24] Epoch 2/10  Train MSE=0.1344  Val MSE=0.1268 Train MAE=0.2767  Val MAE=0.2760\n",
      "[ETTh2 | H=24] Epoch 3/10  Train MSE=0.1392  Val MSE=0.1009 Train MAE=0.2836  Val MAE=0.2508\n",
      "[ETTh2 | H=24] Epoch 4/10  Train MSE=0.1220  Val MSE=0.1034 Train MAE=0.2614  Val MAE=0.2583\n",
      "[ETTh2 | H=24] Epoch 5/10  Train MSE=0.1221  Val MSE=0.0968 Train MAE=0.2614  Val MAE=0.2447\n",
      "[ETTh2 | H=24] Epoch 6/10  Train MSE=0.1198  Val MSE=0.0967 Train MAE=0.2582  Val MAE=0.2438\n",
      "[ETTh2 | H=24] Epoch 7/10  Train MSE=0.1176  Val MSE=0.0950 Train MAE=0.2555  Val MAE=0.2425\n",
      "[ETTh2 | H=24] Epoch 8/10  Train MSE=0.1161  Val MSE=0.1076 Train MAE=0.2532  Val MAE=0.2626\n",
      "[ETTh2 | H=24] Epoch 9/10  Train MSE=0.1161  Val MSE=0.1074 Train MAE=0.2535  Val MAE=0.2628\n",
      "[ETTh2 | H=24] Epoch 10/10  Train MSE=0.1155  Val MSE=0.0941 Train MAE=0.2523  Val MAE=0.2406\n"
     ]
    },
    {
     "name": "stderr",
     "output_type": "stream",
     "text": [
      "2025/10/02 16:52:28 INFO mlflow.tracking.fluent: Experiment with name 'MICN_H48_20251002_165228' does not exist. Creating a new experiment.\n"
     ]
    },
    {
     "name": "stdout",
     "output_type": "stream",
     "text": [
      "TEST  MSE=0.1524  MAE=0.2959\n",
      "Using device: mps\n",
      "batch_id: 1759441594\n",
      "[ETTh2 | H=48] Epoch 1/10  Train MSE=0.3174  Val MSE=0.1472 Train MAE=0.4192  Val MAE=0.3005\n",
      "[ETTh2 | H=48] Epoch 2/10  Train MSE=0.1817  Val MSE=0.1291 Train MAE=0.3254  Val MAE=0.2772\n",
      "[ETTh2 | H=48] Epoch 3/10  Train MSE=0.1680  Val MSE=0.1328 Train MAE=0.3105  Val MAE=0.2893\n",
      "[ETTh2 | H=48] Epoch 4/10  Train MSE=0.1617  Val MSE=0.1166 Train MAE=0.3036  Val MAE=0.2659\n",
      "[ETTh2 | H=48] Epoch 5/10  Train MSE=0.1584  Val MSE=0.1446 Train MAE=0.2998  Val MAE=0.3079\n",
      "[ETTh2 | H=48] Epoch 6/10  Train MSE=0.1571  Val MSE=0.1221 Train MAE=0.2981  Val MAE=0.2789\n",
      "[ETTh2 | H=48] Epoch 7/10  Train MSE=0.1564  Val MSE=0.1195 Train MAE=0.2973  Val MAE=0.2743\n",
      "[ETTh2 | H=48] Epoch 8/10  Train MSE=0.1559  Val MSE=0.1180 Train MAE=0.2967  Val MAE=0.2706\n",
      "[ETTh2 | H=48] Epoch 9/10  Train MSE=0.1552  Val MSE=0.1164 Train MAE=0.2959  Val MAE=0.2682\n",
      "[ETTh2 | H=48] Epoch 10/10  Train MSE=0.1549  Val MSE=0.1181 Train MAE=0.2954  Val MAE=0.2712\n"
     ]
    },
    {
     "name": "stderr",
     "output_type": "stream",
     "text": [
      "2025/10/02 16:53:11 INFO mlflow.tracking.fluent: Experiment with name 'MICN_H96_20251002_165311' does not exist. Creating a new experiment.\n"
     ]
    },
    {
     "name": "stdout",
     "output_type": "stream",
     "text": [
      "TEST  MSE=0.2155  MAE=0.3559\n",
      "Using device: mps\n",
      "batch_id: 1759441594\n",
      "[ETTh2 | H=96] Epoch 1/10  Train MSE=0.2932  Val MSE=0.1767 Train MAE=0.4103  Val MAE=0.3335\n",
      "[ETTh2 | H=96] Epoch 2/10  Train MSE=0.2181  Val MSE=0.1586 Train MAE=0.3590  Val MAE=0.3131\n",
      "[ETTh2 | H=96] Epoch 3/10  Train MSE=0.2084  Val MSE=0.1598 Train MAE=0.3493  Val MAE=0.3166\n",
      "[ETTh2 | H=96] Epoch 4/10  Train MSE=0.2088  Val MSE=0.1606 Train MAE=0.3498  Val MAE=0.3176\n",
      "[ETTh2 | H=96] Epoch 5/10  Train MSE=0.2059  Val MSE=0.1520 Train MAE=0.3464  Val MAE=0.3075\n",
      "[ETTh2 | H=96] Epoch 6/10  Train MSE=0.2022  Val MSE=0.1581 Train MAE=0.3428  Val MAE=0.3147\n",
      "[ETTh2 | H=96] Epoch 7/10  Train MSE=0.2010  Val MSE=0.2021 Train MAE=0.3413  Val MAE=0.3626\n",
      "[ETTh2 | H=96] Epoch 8/10  Train MSE=0.1999  Val MSE=0.1597 Train MAE=0.3403  Val MAE=0.3174\n",
      "[ETTh2 | H=96] Epoch 9/10  Train MSE=0.1988  Val MSE=0.1509 Train MAE=0.3394  Val MAE=0.3056\n",
      "[ETTh2 | H=96] Epoch 10/10  Train MSE=0.1992  Val MSE=0.1513 Train MAE=0.3396  Val MAE=0.3072\n"
     ]
    },
    {
     "name": "stderr",
     "output_type": "stream",
     "text": [
      "2025/10/02 16:53:53 INFO mlflow.tracking.fluent: Experiment with name 'MICN_H192_20251002_165353' does not exist. Creating a new experiment.\n"
     ]
    },
    {
     "name": "stdout",
     "output_type": "stream",
     "text": [
      "TEST  MSE=0.2864  MAE=0.4129\n",
      "Using device: mps\n",
      "batch_id: 1759441594\n",
      "[ETTh2 | H=192] Epoch 1/10  Train MSE=0.3250  Val MSE=0.2995 Train MAE=0.4380  Val MAE=0.4427\n",
      "[ETTh2 | H=192] Epoch 2/10  Train MSE=0.2565  Val MSE=0.2650 Train MAE=0.3925  Val MAE=0.4108\n",
      "[ETTh2 | H=192] Epoch 3/10  Train MSE=0.2451  Val MSE=0.2309 Train MAE=0.3823  Val MAE=0.3843\n",
      "[ETTh2 | H=192] Epoch 4/10  Train MSE=0.2390  Val MSE=0.2640 Train MAE=0.3768  Val MAE=0.4087\n",
      "[ETTh2 | H=192] Epoch 5/10  Train MSE=0.2366  Val MSE=0.2264 Train MAE=0.3745  Val MAE=0.3821\n",
      "[ETTh2 | H=192] Epoch 6/10  Train MSE=0.2345  Val MSE=0.2478 Train MAE=0.3726  Val MAE=0.3978\n",
      "[ETTh2 | H=192] Epoch 7/10  Train MSE=0.2339  Val MSE=0.2440 Train MAE=0.3718  Val MAE=0.3969\n",
      "[ETTh2 | H=192] Epoch 8/10  Train MSE=0.2330  Val MSE=0.2115 Train MAE=0.3712  Val MAE=0.3677\n",
      "[ETTh2 | H=192] Epoch 9/10  Train MSE=0.2330  Val MSE=0.2267 Train MAE=0.3710  Val MAE=0.3820\n",
      "[ETTh2 | H=192] Epoch 10/10  Train MSE=0.2321  Val MSE=0.2393 Train MAE=0.3702  Val MAE=0.3926\n"
     ]
    },
    {
     "name": "stderr",
     "output_type": "stream",
     "text": [
      "2025/10/02 16:54:38 INFO mlflow.tracking.fluent: Experiment with name 'MICN_H336_20251002_165438' does not exist. Creating a new experiment.\n"
     ]
    },
    {
     "name": "stdout",
     "output_type": "stream",
     "text": [
      "TEST  MSE=0.3038  MAE=0.4315\n",
      "Using device: mps\n",
      "batch_id: 1759441594\n",
      "[ETTh2 | H=336] Epoch 1/10  Train MSE=0.3575  Val MSE=0.3169 Train MAE=0.4616  Val MAE=0.4575\n",
      "[ETTh2 | H=336] Epoch 2/10  Train MSE=0.2791  Val MSE=0.2609 Train MAE=0.4133  Val MAE=0.4170\n",
      "[ETTh2 | H=336] Epoch 3/10  Train MSE=0.2687  Val MSE=0.3003 Train MAE=0.4045  Val MAE=0.4449\n",
      "[ETTh2 | H=336] Epoch 4/10  Train MSE=0.2625  Val MSE=0.2574 Train MAE=0.3997  Val MAE=0.4128\n",
      "[ETTh2 | H=336] Epoch 5/10  Train MSE=0.2598  Val MSE=0.2785 Train MAE=0.3971  Val MAE=0.4268\n",
      "[ETTh2 | H=336] Epoch 6/10  Train MSE=0.2584  Val MSE=0.2804 Train MAE=0.3961  Val MAE=0.4288\n",
      "[ETTh2 | H=336] Epoch 7/10  Train MSE=0.2567  Val MSE=0.2842 Train MAE=0.3947  Val MAE=0.4302\n",
      "[ETTh2 | H=336] Epoch 8/10  Train MSE=0.2567  Val MSE=0.3060 Train MAE=0.3946  Val MAE=0.4485\n",
      "[ETTh2 | H=336] Epoch 9/10  Train MSE=0.2558  Val MSE=0.2677 Train MAE=0.3940  Val MAE=0.4204\n",
      "[ETTh2 | H=336] Epoch 10/10  Train MSE=0.2558  Val MSE=0.2778 Train MAE=0.3939  Val MAE=0.4294\n"
     ]
    },
    {
     "name": "stderr",
     "output_type": "stream",
     "text": [
      "2025/10/02 16:55:26 INFO mlflow.tracking.fluent: Experiment with name 'MICN_H720_20251002_165526' does not exist. Creating a new experiment.\n"
     ]
    },
    {
     "name": "stdout",
     "output_type": "stream",
     "text": [
      "TEST  MSE=0.3323  MAE=0.4532\n",
      "Using device: mps\n",
      "batch_id: 1759441594\n",
      "[ETTh2 | H=720] Epoch 1/10  Train MSE=0.4226  Val MSE=0.3610 Train MAE=0.5081  Val MAE=0.4916\n",
      "[ETTh2 | H=720] Epoch 2/10  Train MSE=0.3408  Val MSE=0.3854 Train MAE=0.4611  Val MAE=0.5087\n",
      "[ETTh2 | H=720] Epoch 3/10  Train MSE=0.3306  Val MSE=0.3588 Train MAE=0.4538  Val MAE=0.4922\n",
      "[ETTh2 | H=720] Epoch 4/10  Train MSE=0.3257  Val MSE=0.3320 Train MAE=0.4503  Val MAE=0.4720\n",
      "[ETTh2 | H=720] Epoch 5/10  Train MSE=0.3233  Val MSE=0.2872 Train MAE=0.4479  Val MAE=0.4373\n",
      "[ETTh2 | H=720] Epoch 6/10  Train MSE=0.3215  Val MSE=0.3324 Train MAE=0.4468  Val MAE=0.4737\n",
      "[ETTh2 | H=720] Epoch 7/10  Train MSE=0.3200  Val MSE=0.3902 Train MAE=0.4456  Val MAE=0.5184\n",
      "[ETTh2 | H=720] Epoch 8/10  Train MSE=0.3204  Val MSE=0.3352 Train MAE=0.4461  Val MAE=0.4762\n",
      "[ETTh2 | H=720] Epoch 9/10  Train MSE=0.3193  Val MSE=0.3138 Train MAE=0.4452  Val MAE=0.4590\n",
      "[ETTh2 | H=720] Epoch 10/10  Train MSE=0.3197  Val MSE=0.2999 Train MAE=0.4454  Val MAE=0.4476\n"
     ]
    },
    {
     "name": "stderr",
     "output_type": "stream",
     "text": [
      "2025/10/02 16:56:47 INFO mlflow.tracking.fluent: Experiment with name 'MICN_H24_20251002_165647' does not exist. Creating a new experiment.\n"
     ]
    },
    {
     "name": "stdout",
     "output_type": "stream",
     "text": [
      "TEST  MSE=0.4302  MAE=0.5239\n",
      "Using device: mps\n",
      "batch_id: 1759441594\n",
      "[ETTm1 | H=24] Epoch 1/10  Train MSE=0.0779  Val MSE=0.0186 Train MAE=0.1939  Val MAE=0.1046\n",
      "[ETTm1 | H=24] Epoch 2/10  Train MSE=0.0502  Val MSE=0.0191 Train MAE=0.1629  Val MAE=0.1063\n",
      "[ETTm1 | H=24] Epoch 3/10  Train MSE=0.0487  Val MSE=0.0153 Train MAE=0.1597  Val MAE=0.0911\n",
      "[ETTm1 | H=24] Epoch 4/10  Train MSE=0.0481  Val MSE=0.0151 Train MAE=0.1583  Val MAE=0.0908\n",
      "[ETTm1 | H=24] Epoch 5/10  Train MSE=0.0473  Val MSE=0.0150 Train MAE=0.1566  Val MAE=0.0901\n",
      "[ETTm1 | H=24] Epoch 6/10  Train MSE=0.0468  Val MSE=0.0159 Train MAE=0.1555  Val MAE=0.0965\n",
      "[ETTm1 | H=24] Epoch 7/10  Train MSE=0.0465  Val MSE=0.0154 Train MAE=0.1550  Val MAE=0.0934\n",
      "[ETTm1 | H=24] Epoch 8/10  Train MSE=0.0462  Val MSE=0.0167 Train MAE=0.1542  Val MAE=0.1002\n",
      "[ETTm1 | H=24] Epoch 9/10  Train MSE=0.0461  Val MSE=0.0203 Train MAE=0.1540  Val MAE=0.1125\n",
      "[ETTm1 | H=24] Epoch 10/10  Train MSE=0.0460  Val MSE=0.0148 Train MAE=0.1537  Val MAE=0.0909\n"
     ]
    },
    {
     "name": "stderr",
     "output_type": "stream",
     "text": [
      "2025/10/02 16:59:37 INFO mlflow.tracking.fluent: Experiment with name 'MICN_H48_20251002_165937' does not exist. Creating a new experiment.\n"
     ]
    },
    {
     "name": "stdout",
     "output_type": "stream",
     "text": [
      "TEST  MSE=0.0211  MAE=0.1020\n",
      "Using device: mps\n",
      "batch_id: 1759441594\n",
      "[ETTm1 | H=48] Epoch 1/10  Train MSE=0.0922  Val MSE=0.0269 Train MAE=0.2194  Val MAE=0.1249\n",
      "[ETTm1 | H=48] Epoch 2/10  Train MSE=0.0735  Val MSE=0.0251 Train MAE=0.1977  Val MAE=0.1187\n",
      "[ETTm1 | H=48] Epoch 3/10  Train MSE=0.0726  Val MSE=0.0255 Train MAE=0.1957  Val MAE=0.1177\n",
      "[ETTm1 | H=48] Epoch 4/10  Train MSE=0.0720  Val MSE=0.0289 Train MAE=0.1946  Val MAE=0.1285\n",
      "[ETTm1 | H=48] Epoch 5/10  Train MSE=0.0717  Val MSE=0.0280 Train MAE=0.1941  Val MAE=0.1239\n",
      "[ETTm1 | H=48] Epoch 6/10  Train MSE=0.0713  Val MSE=0.0253 Train MAE=0.1933  Val MAE=0.1192\n",
      "[ETTm1 | H=48] Epoch 7/10  Train MSE=0.0709  Val MSE=0.0243 Train MAE=0.1927  Val MAE=0.1152\n",
      "[ETTm1 | H=48] Epoch 8/10  Train MSE=0.0708  Val MSE=0.0256 Train MAE=0.1924  Val MAE=0.1171\n",
      "[ETTm1 | H=48] Epoch 9/10  Train MSE=0.0709  Val MSE=0.0242 Train MAE=0.1925  Val MAE=0.1153\n",
      "[ETTm1 | H=48] Epoch 10/10  Train MSE=0.0705  Val MSE=0.0257 Train MAE=0.1919  Val MAE=0.1178\n"
     ]
    },
    {
     "name": "stderr",
     "output_type": "stream",
     "text": [
      "2025/10/02 17:02:32 INFO mlflow.tracking.fluent: Experiment with name 'MICN_H96_20251002_170232' does not exist. Creating a new experiment.\n"
     ]
    },
    {
     "name": "stdout",
     "output_type": "stream",
     "text": [
      "TEST  MSE=0.0336  MAE=0.1305\n",
      "Using device: mps\n",
      "batch_id: 1759441594\n",
      "[ETTm1 | H=96] Epoch 1/10  Train MSE=0.1215  Val MSE=0.0496 Train MAE=0.2494  Val MAE=0.1646\n",
      "[ETTm1 | H=96] Epoch 2/10  Train MSE=0.1024  Val MSE=0.0471 Train MAE=0.2335  Val MAE=0.1611\n",
      "[ETTm1 | H=96] Epoch 3/10  Train MSE=0.1012  Val MSE=0.0469 Train MAE=0.2317  Val MAE=0.1647\n",
      "[ETTm1 | H=96] Epoch 4/10  Train MSE=0.1009  Val MSE=0.0400 Train MAE=0.2310  Val MAE=0.1465\n",
      "[ETTm1 | H=96] Epoch 5/10  Train MSE=0.1006  Val MSE=0.0453 Train MAE=0.2306  Val MAE=0.1563\n",
      "[ETTm1 | H=96] Epoch 6/10  Train MSE=0.1005  Val MSE=0.0402 Train MAE=0.2305  Val MAE=0.1493\n",
      "[ETTm1 | H=96] Epoch 7/10  Train MSE=0.1004  Val MSE=0.0392 Train MAE=0.2302  Val MAE=0.1459\n",
      "[ETTm1 | H=96] Epoch 8/10  Train MSE=0.0999  Val MSE=0.0382 Train MAE=0.2295  Val MAE=0.1469\n",
      "[ETTm1 | H=96] Epoch 9/10  Train MSE=0.1000  Val MSE=0.0467 Train MAE=0.2295  Val MAE=0.1652\n",
      "[ETTm1 | H=96] Epoch 10/10  Train MSE=0.1000  Val MSE=0.0426 Train MAE=0.2296  Val MAE=0.1544\n"
     ]
    },
    {
     "name": "stderr",
     "output_type": "stream",
     "text": [
      "2025/10/02 17:05:30 INFO mlflow.tracking.fluent: Experiment with name 'MICN_H192_20251002_170530' does not exist. Creating a new experiment.\n"
     ]
    },
    {
     "name": "stdout",
     "output_type": "stream",
     "text": [
      "TEST  MSE=0.0498  MAE=0.1615\n",
      "Using device: mps\n",
      "batch_id: 1759441594\n",
      "[ETTm1 | H=192] Epoch 1/10  Train MSE=0.1749  Val MSE=0.0805 Train MAE=0.3042  Val MAE=0.2119\n",
      "[ETTm1 | H=192] Epoch 2/10  Train MSE=0.1531  Val MSE=0.0665 Train MAE=0.2874  Val MAE=0.1871\n",
      "[ETTm1 | H=192] Epoch 3/10  Train MSE=0.1526  Val MSE=0.0546 Train MAE=0.2866  Val MAE=0.1734\n",
      "[ETTm1 | H=192] Epoch 4/10  Train MSE=0.1522  Val MSE=0.0647 Train MAE=0.2862  Val MAE=0.1855\n",
      "[ETTm1 | H=192] Epoch 5/10  Train MSE=0.1519  Val MSE=0.0602 Train MAE=0.2858  Val MAE=0.1788\n",
      "[ETTm1 | H=192] Epoch 6/10  Train MSE=0.1516  Val MSE=0.0551 Train MAE=0.2854  Val MAE=0.1722\n",
      "[ETTm1 | H=192] Epoch 7/10  Train MSE=0.1517  Val MSE=0.0694 Train MAE=0.2854  Val MAE=0.1909\n",
      "[ETTm1 | H=192] Epoch 8/10  Train MSE=0.1515  Val MSE=0.0675 Train MAE=0.2853  Val MAE=0.1902\n",
      "[ETTm1 | H=192] Epoch 9/10  Train MSE=0.1515  Val MSE=0.0564 Train MAE=0.2853  Val MAE=0.1776\n",
      "[ETTm1 | H=192] Epoch 10/10  Train MSE=0.1517  Val MSE=0.0702 Train MAE=0.2854  Val MAE=0.1926\n"
     ]
    },
    {
     "name": "stderr",
     "output_type": "stream",
     "text": [
      "2025/10/02 17:08:38 INFO mlflow.tracking.fluent: Experiment with name 'MICN_H336_20251002_170838' does not exist. Creating a new experiment.\n"
     ]
    },
    {
     "name": "stdout",
     "output_type": "stream",
     "text": [
      "TEST  MSE=0.0798  MAE=0.2068\n",
      "Using device: mps\n",
      "batch_id: 1759441594\n",
      "[ETTm1 | H=336] Epoch 1/10  Train MSE=0.2145  Val MSE=0.0731 Train MAE=0.3435  Val MAE=0.2011\n",
      "[ETTm1 | H=336] Epoch 2/10  Train MSE=0.1962  Val MSE=0.0938 Train MAE=0.3306  Val MAE=0.2239\n",
      "[ETTm1 | H=336] Epoch 3/10  Train MSE=0.1956  Val MSE=0.0865 Train MAE=0.3297  Val MAE=0.2140\n",
      "[ETTm1 | H=336] Epoch 4/10  Train MSE=0.1956  Val MSE=0.0925 Train MAE=0.3298  Val MAE=0.2199\n",
      "[ETTm1 | H=336] Epoch 5/10  Train MSE=0.1952  Val MSE=0.0774 Train MAE=0.3293  Val MAE=0.2029\n",
      "[ETTm1 | H=336] Epoch 6/10  Train MSE=0.1951  Val MSE=0.0755 Train MAE=0.3292  Val MAE=0.2026\n",
      "[ETTm1 | H=336] Epoch 7/10  Train MSE=0.1950  Val MSE=0.0832 Train MAE=0.3292  Val MAE=0.2112\n",
      "[ETTm1 | H=336] Epoch 8/10  Train MSE=0.1950  Val MSE=0.0739 Train MAE=0.3290  Val MAE=0.2010\n",
      "[ETTm1 | H=336] Epoch 9/10  Train MSE=0.1953  Val MSE=0.0722 Train MAE=0.3294  Val MAE=0.1998\n",
      "[ETTm1 | H=336] Epoch 10/10  Train MSE=0.1948  Val MSE=0.0822 Train MAE=0.3288  Val MAE=0.2095\n"
     ]
    },
    {
     "name": "stderr",
     "output_type": "stream",
     "text": [
      "2025/10/02 17:12:15 INFO mlflow.tracking.fluent: Experiment with name 'MICN_H720_20251002_171215' does not exist. Creating a new experiment.\n"
     ]
    },
    {
     "name": "stdout",
     "output_type": "stream",
     "text": [
      "TEST  MSE=0.1108  MAE=0.2493\n",
      "Using device: mps\n",
      "batch_id: 1759441594\n",
      "[ETTm1 | H=720] Epoch 1/10  Train MSE=0.2550  Val MSE=0.1299 Train MAE=0.3816  Val MAE=0.2722\n",
      "[ETTm1 | H=720] Epoch 2/10  Train MSE=0.2398  Val MSE=0.1263 Train MAE=0.3716  Val MAE=0.2669\n",
      "[ETTm1 | H=720] Epoch 3/10  Train MSE=0.2389  Val MSE=0.1167 Train MAE=0.3708  Val MAE=0.2571\n",
      "[ETTm1 | H=720] Epoch 4/10  Train MSE=0.2390  Val MSE=0.1067 Train MAE=0.3708  Val MAE=0.2513\n",
      "[ETTm1 | H=720] Epoch 5/10  Train MSE=0.2389  Val MSE=0.1440 Train MAE=0.3708  Val MAE=0.2886\n",
      "[ETTm1 | H=720] Epoch 6/10  Train MSE=0.2393  Val MSE=0.1394 Train MAE=0.3711  Val MAE=0.2807\n",
      "[ETTm1 | H=720] Epoch 7/10  Train MSE=0.2386  Val MSE=0.1465 Train MAE=0.3706  Val MAE=0.2863\n",
      "[ETTm1 | H=720] Epoch 8/10  Train MSE=0.2387  Val MSE=0.1502 Train MAE=0.3706  Val MAE=0.2947\n",
      "[ETTm1 | H=720] Epoch 9/10  Train MSE=0.2384  Val MSE=0.1407 Train MAE=0.3706  Val MAE=0.2789\n",
      "[ETTm1 | H=720] Epoch 10/10  Train MSE=0.2393  Val MSE=0.1435 Train MAE=0.3712  Val MAE=0.2843\n"
     ]
    },
    {
     "name": "stderr",
     "output_type": "stream",
     "text": [
      "2025/10/02 17:18:23 INFO mlflow.tracking.fluent: Experiment with name 'MICN_H24_20251002_171823' does not exist. Creating a new experiment.\n"
     ]
    },
    {
     "name": "stdout",
     "output_type": "stream",
     "text": [
      "TEST  MSE=0.1462  MAE=0.2935\n",
      "Using device: mps\n",
      "batch_id: 1759441594\n",
      "[ETTm2 | H=24] Epoch 1/10  Train MSE=0.1048  Val MSE=0.0570 Train MAE=0.2241  Val MAE=0.1753\n",
      "[ETTm2 | H=24] Epoch 2/10  Train MSE=0.0602  Val MSE=0.0482 Train MAE=0.1727  Val MAE=0.1595\n",
      "[ETTm2 | H=24] Epoch 3/10  Train MSE=0.0530  Val MSE=0.0450 Train MAE=0.1584  Val MAE=0.1575\n",
      "[ETTm2 | H=24] Epoch 4/10  Train MSE=0.0497  Val MSE=0.0435 Train MAE=0.1516  Val MAE=0.1544\n",
      "[ETTm2 | H=24] Epoch 5/10  Train MSE=0.0482  Val MSE=0.0413 Train MAE=0.1484  Val MAE=0.1438\n",
      "[ETTm2 | H=24] Epoch 6/10  Train MSE=0.0472  Val MSE=0.0432 Train MAE=0.1464  Val MAE=0.1523\n",
      "[ETTm2 | H=24] Epoch 7/10  Train MSE=0.0466  Val MSE=0.0400 Train MAE=0.1454  Val MAE=0.1390\n",
      "[ETTm2 | H=24] Epoch 8/10  Train MSE=0.0462  Val MSE=0.0398 Train MAE=0.1444  Val MAE=0.1423\n",
      "[ETTm2 | H=24] Epoch 9/10  Train MSE=0.0460  Val MSE=0.0458 Train MAE=0.1440  Val MAE=0.1483\n",
      "[ETTm2 | H=24] Epoch 10/10  Train MSE=0.0456  Val MSE=0.0393 Train MAE=0.1434  Val MAE=0.1429\n"
     ]
    },
    {
     "name": "stderr",
     "output_type": "stream",
     "text": [
      "2025/10/02 17:21:11 INFO mlflow.tracking.fluent: Experiment with name 'MICN_H48_20251002_172111' does not exist. Creating a new experiment.\n"
     ]
    },
    {
     "name": "stdout",
     "output_type": "stream",
     "text": [
      "TEST  MSE=0.0525  MAE=0.1527\n",
      "Using device: mps\n",
      "batch_id: 1759441594\n",
      "[ETTm2 | H=48] Epoch 1/10  Train MSE=0.1144  Val MSE=0.0836 Train MAE=0.2391  Val MAE=0.2271\n",
      "[ETTm2 | H=48] Epoch 2/10  Train MSE=0.0861  Val MSE=0.0691 Train MAE=0.2064  Val MAE=0.1977\n",
      "[ETTm2 | H=48] Epoch 3/10  Train MSE=0.0818  Val MSE=0.0655 Train MAE=0.1985  Val MAE=0.1887\n",
      "[ETTm2 | H=48] Epoch 4/10  Train MSE=0.0798  Val MSE=0.0707 Train MAE=0.1945  Val MAE=0.2031\n",
      "[ETTm2 | H=48] Epoch 5/10  Train MSE=0.0791  Val MSE=0.0655 Train MAE=0.1930  Val MAE=0.1911\n",
      "[ETTm2 | H=48] Epoch 6/10  Train MSE=0.0784  Val MSE=0.0643 Train MAE=0.1920  Val MAE=0.1870\n",
      "[ETTm2 | H=48] Epoch 7/10  Train MSE=0.0779  Val MSE=0.0631 Train MAE=0.1908  Val MAE=0.1839\n",
      "[ETTm2 | H=48] Epoch 8/10  Train MSE=0.0779  Val MSE=0.0656 Train MAE=0.1909  Val MAE=0.1906\n",
      "[ETTm2 | H=48] Epoch 9/10  Train MSE=0.0774  Val MSE=0.0659 Train MAE=0.1899  Val MAE=0.1904\n",
      "[ETTm2 | H=48] Epoch 10/10  Train MSE=0.0772  Val MSE=0.0644 Train MAE=0.1896  Val MAE=0.1847\n"
     ]
    },
    {
     "name": "stderr",
     "output_type": "stream",
     "text": [
      "2025/10/02 17:24:00 INFO mlflow.tracking.fluent: Experiment with name 'MICN_H96_20251002_172400' does not exist. Creating a new experiment.\n"
     ]
    },
    {
     "name": "stdout",
     "output_type": "stream",
     "text": [
      "TEST  MSE=0.0940  MAE=0.2070\n",
      "Using device: mps\n",
      "batch_id: 1759441594\n",
      "[ETTm2 | H=96] Epoch 1/10  Train MSE=0.1327  Val MSE=0.0941 Train MAE=0.2602  Val MAE=0.2397\n",
      "[ETTm2 | H=96] Epoch 2/10  Train MSE=0.1090  Val MSE=0.0988 Train MAE=0.2364  Val MAE=0.2508\n",
      "[ETTm2 | H=96] Epoch 3/10  Train MSE=0.1071  Val MSE=0.0835 Train MAE=0.2322  Val MAE=0.2217\n",
      "[ETTm2 | H=96] Epoch 4/10  Train MSE=0.1056  Val MSE=0.0776 Train MAE=0.2299  Val MAE=0.2117\n",
      "[ETTm2 | H=96] Epoch 5/10  Train MSE=0.1049  Val MSE=0.0886 Train MAE=0.2288  Val MAE=0.2267\n",
      "[ETTm2 | H=96] Epoch 6/10  Train MSE=0.1044  Val MSE=0.0852 Train MAE=0.2277  Val MAE=0.2233\n",
      "[ETTm2 | H=96] Epoch 7/10  Train MSE=0.1044  Val MSE=0.0792 Train MAE=0.2277  Val MAE=0.2140\n",
      "[ETTm2 | H=96] Epoch 8/10  Train MSE=0.1046  Val MSE=0.0862 Train MAE=0.2273  Val MAE=0.2270\n",
      "[ETTm2 | H=96] Epoch 9/10  Train MSE=0.1042  Val MSE=0.1017 Train MAE=0.2271  Val MAE=0.2494\n",
      "[ETTm2 | H=96] Epoch 10/10  Train MSE=0.1042  Val MSE=0.0806 Train MAE=0.2272  Val MAE=0.2165\n"
     ]
    },
    {
     "name": "stderr",
     "output_type": "stream",
     "text": [
      "2025/10/02 17:26:52 INFO mlflow.tracking.fluent: Experiment with name 'MICN_H192_20251002_172652' does not exist. Creating a new experiment.\n"
     ]
    },
    {
     "name": "stdout",
     "output_type": "stream",
     "text": [
      "TEST  MSE=0.1277  MAE=0.2532\n",
      "Using device: mps\n",
      "batch_id: 1759441594\n",
      "[ETTm2 | H=192] Epoch 1/10  Train MSE=0.1807  Val MSE=0.1320 Train MAE=0.3107  Val MAE=0.2797\n",
      "[ETTm2 | H=192] Epoch 2/10  Train MSE=0.1601  Val MSE=0.1255 Train MAE=0.2918  Val MAE=0.2721\n",
      "[ETTm2 | H=192] Epoch 3/10  Train MSE=0.1583  Val MSE=0.1107 Train MAE=0.2890  Val MAE=0.2552\n",
      "[ETTm2 | H=192] Epoch 4/10  Train MSE=0.1570  Val MSE=0.1120 Train MAE=0.2873  Val MAE=0.2569\n",
      "[ETTm2 | H=192] Epoch 5/10  Train MSE=0.1567  Val MSE=0.1247 Train MAE=0.2869  Val MAE=0.2717\n",
      "[ETTm2 | H=192] Epoch 6/10  Train MSE=0.1562  Val MSE=0.1162 Train MAE=0.2861  Val MAE=0.2607\n",
      "[ETTm2 | H=192] Epoch 7/10  Train MSE=0.1562  Val MSE=0.1139 Train MAE=0.2862  Val MAE=0.2583\n",
      "[ETTm2 | H=192] Epoch 8/10  Train MSE=0.1561  Val MSE=0.1085 Train MAE=0.2860  Val MAE=0.2515\n",
      "[ETTm2 | H=192] Epoch 9/10  Train MSE=0.1559  Val MSE=0.1318 Train MAE=0.2858  Val MAE=0.2814\n",
      "[ETTm2 | H=192] Epoch 10/10  Train MSE=0.1559  Val MSE=0.1104 Train MAE=0.2858  Val MAE=0.2542\n"
     ]
    },
    {
     "name": "stderr",
     "output_type": "stream",
     "text": [
      "2025/10/02 17:30:10 INFO mlflow.tracking.fluent: Experiment with name 'MICN_H336_20251002_173010' does not exist. Creating a new experiment.\n"
     ]
    },
    {
     "name": "stdout",
     "output_type": "stream",
     "text": [
      "TEST  MSE=0.1968  MAE=0.3238\n",
      "Using device: mps\n",
      "batch_id: 1759441594\n",
      "[ETTm2 | H=336] Epoch 1/10  Train MSE=0.2300  Val MSE=0.1650 Train MAE=0.3564  Val MAE=0.3172\n",
      "[ETTm2 | H=336] Epoch 2/10  Train MSE=0.2077  Val MSE=0.1758 Train MAE=0.3390  Val MAE=0.3289\n",
      "[ETTm2 | H=336] Epoch 3/10  Train MSE=0.2059  Val MSE=0.1580 Train MAE=0.3368  Val MAE=0.3099\n",
      "[ETTm2 | H=336] Epoch 4/10  Train MSE=0.2054  Val MSE=0.1481 Train MAE=0.3361  Val MAE=0.2993\n",
      "[ETTm2 | H=336] Epoch 5/10  Train MSE=0.2049  Val MSE=0.1649 Train MAE=0.3354  Val MAE=0.3171\n",
      "[ETTm2 | H=336] Epoch 6/10  Train MSE=0.2046  Val MSE=0.1735 Train MAE=0.3352  Val MAE=0.3246\n",
      "[ETTm2 | H=336] Epoch 7/10  Train MSE=0.2047  Val MSE=0.1572 Train MAE=0.3351  Val MAE=0.3099\n",
      "[ETTm2 | H=336] Epoch 8/10  Train MSE=0.2043  Val MSE=0.1452 Train MAE=0.3348  Val MAE=0.2963\n",
      "[ETTm2 | H=336] Epoch 9/10  Train MSE=0.2043  Val MSE=0.1808 Train MAE=0.3348  Val MAE=0.3317\n",
      "[ETTm2 | H=336] Epoch 10/10  Train MSE=0.2044  Val MSE=0.1443 Train MAE=0.3349  Val MAE=0.2964\n"
     ]
    },
    {
     "name": "stderr",
     "output_type": "stream",
     "text": [
      "2025/10/02 17:33:48 INFO mlflow.tracking.fluent: Experiment with name 'MICN_H720_20251002_173348' does not exist. Creating a new experiment.\n"
     ]
    },
    {
     "name": "stdout",
     "output_type": "stream",
     "text": [
      "TEST  MSE=0.2780  MAE=0.3889\n",
      "Using device: mps\n",
      "batch_id: 1759441594\n",
      "[ETTm2 | H=720] Epoch 1/10  Train MSE=0.2787  Val MSE=0.2450 Train MAE=0.4009  Val MAE=0.3939\n",
      "[ETTm2 | H=720] Epoch 2/10  Train MSE=0.2605  Val MSE=0.2546 Train MAE=0.3882  Val MAE=0.3979\n",
      "[ETTm2 | H=720] Epoch 3/10  Train MSE=0.2592  Val MSE=0.2440 Train MAE=0.3869  Val MAE=0.3935\n",
      "[ETTm2 | H=720] Epoch 4/10  Train MSE=0.2590  Val MSE=0.2424 Train MAE=0.3865  Val MAE=0.3919\n",
      "[ETTm2 | H=720] Epoch 5/10  Train MSE=0.2588  Val MSE=0.2536 Train MAE=0.3865  Val MAE=0.3996\n",
      "[ETTm2 | H=720] Epoch 6/10  Train MSE=0.2593  Val MSE=0.2207 Train MAE=0.3867  Val MAE=0.3726\n",
      "[ETTm2 | H=720] Epoch 7/10  Train MSE=0.2586  Val MSE=0.2316 Train MAE=0.3862  Val MAE=0.3807\n",
      "[ETTm2 | H=720] Epoch 8/10  Train MSE=0.2589  Val MSE=0.2636 Train MAE=0.3865  Val MAE=0.4093\n",
      "[ETTm2 | H=720] Epoch 9/10  Train MSE=0.2587  Val MSE=0.2410 Train MAE=0.3864  Val MAE=0.3918\n",
      "[ETTm2 | H=720] Epoch 10/10  Train MSE=0.2589  Val MSE=0.2688 Train MAE=0.3865  Val MAE=0.4106\n",
      "TEST  MSE=0.3366  MAE=0.4454\n",
      "All experiments completed.\n"
     ]
    }
   ],
   "source": [
    "import time\n",
    "from experiments.trainer import train_and_eval_model\n",
    "\n",
    "batch_id = str(int(time.time()))\n",
    "datasets = [\"ETTh1\", \"ETTh2\", \"ETTm1\", \"ETTm2\"]\n",
    "horizons = [24, 48, 96, 192, 336, 720]\n",
    "for dataset in datasets:\n",
    "    for horizon in horizons:\n",
    "        params = {\n",
    "            \"dataset\": dataset,\n",
    "            \"input_len\": 96,\n",
    "            \"output_len\": horizon,\n",
    "            \"d_model\": 64,\n",
    "            \"n_layers\": 2,\n",
    "            \"scales\": [12, 24, 48],\n",
    "            \"batch_size\": 64,\n",
    "            \"epochs\": 10,\n",
    "            \"learning_rate\": 1e-3,\n",
    "            \"weight_decay\": 1e-4\n",
    "        }\n",
    "        train_and_eval_model(params, batch_id=batch_id)\n",
    "\n",
    "print(\"All experiments completed.\")"
   ]
  },
  {
   "cell_type": "markdown",
   "id": "3bc2eb19",
   "metadata": {},
   "source": []
  }
 ],
 "metadata": {
  "kernelspec": {
   "display_name": "envlab02",
   "language": "python",
   "name": "python3"
  },
  "language_info": {
   "codemirror_mode": {
    "name": "ipython",
    "version": 3
   },
   "file_extension": ".py",
   "mimetype": "text/x-python",
   "name": "python",
   "nbconvert_exporter": "python",
   "pygments_lexer": "ipython3",
   "version": "3.10.0"
  }
 },
 "nbformat": 4,
 "nbformat_minor": 5
}
