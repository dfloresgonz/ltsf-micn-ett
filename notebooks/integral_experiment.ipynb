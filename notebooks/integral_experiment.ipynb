{
 "cells": [
  {
   "cell_type": "code",
   "execution_count": 1,
   "id": "56ec8063",
   "metadata": {},
   "outputs": [
    {
     "name": "stdout",
     "output_type": "stream",
     "text": [
      "Added /Users/diego/Documents/maestriaUTEC/ciclo05/deeplearning/lab02 to Python path\n"
     ]
    }
   ],
   "source": [
    "import sys\n",
    "import os\n",
    "\n",
    "project_root = os.path.abspath(os.path.join(os.getcwd(), '..'))\n",
    "if project_root not in sys.path:\n",
    "    sys.path.insert(0, project_root)\n",
    "\n",
    "print(f\"Added {project_root} to Python path\")"
   ]
  },
  {
   "cell_type": "code",
   "execution_count": null,
   "id": "ccc5dfb5",
   "metadata": {},
   "outputs": [
    {
     "name": "stderr",
     "output_type": "stream",
     "text": [
      "2025/10/04 11:37:53 INFO mlflow.tracking.fluent: Experiment with name 'MICN_H24_20251004_113753_multifeature' does not exist. Creating a new experiment.\n"
     ]
    },
    {
     "name": "stdout",
     "output_type": "stream",
     "text": [
      "Using device: mps\n",
      "batch_id: 1759595873\n"
     ]
    }
   ],
   "source": [
    "import time\n",
    "from experiments.trainer import train_and_eval_model\n",
    "\n",
    "batch_id = str(int(time.time()))\n",
    "datasets = [\"ETTh1\"]\n",
    "# datasets = [\"ETTh1\", \"ETTh2\", \"ETTm1\", \"ETTm2\"]\n",
    "horizons = [24, 48, 96, 192, 336, 720]\n",
    "for dataset in datasets:\n",
    "    for horizon in horizons:\n",
    "        params = {\n",
    "            \"dataset\": dataset,\n",
    "            \"input_len\": 96,\n",
    "            \"output_len\": horizon,\n",
    "            \"d_model\": 64,\n",
    "            \"n_layers\": 2,\n",
    "            \"scales\": [12, 24, 48],\n",
    "            \"batch_size\": 64,\n",
    "            \"epochs\": 10,\n",
    "            \"learning_rate\": 1e-3,\n",
    "            \"weight_decay\": 1e-4\n",
    "        }\n",
    "        train_and_eval_model(params, batch_id=batch_id)\n",
    "\n",
    "print(\"All experiments completed.\")"
   ]
  },
  {
   "cell_type": "markdown",
   "id": "3bc2eb19",
   "metadata": {},
   "source": []
  }
 ],
 "metadata": {
  "kernelspec": {
   "display_name": "envlab02",
   "language": "python",
   "name": "python3"
  },
  "language_info": {
   "codemirror_mode": {
    "name": "ipython",
    "version": 3
   },
   "file_extension": ".py",
   "mimetype": "text/x-python",
   "name": "python",
   "nbconvert_exporter": "python",
   "pygments_lexer": "ipython3",
   "version": "3.10.0"
  }
 },
 "nbformat": 4,
 "nbformat_minor": 5
}
