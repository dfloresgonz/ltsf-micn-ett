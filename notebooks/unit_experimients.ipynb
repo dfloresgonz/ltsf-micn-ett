{
 "cells": [
  {
   "cell_type": "code",
   "execution_count": 11,
   "id": "5e12864e",
   "metadata": {},
   "outputs": [
    {
     "name": "stdout",
     "output_type": "stream",
     "text": [
      "Added /Users/diego/Documents/maestriaUTEC/ciclo05/deeplearning/lab02 to Python path\n"
     ]
    }
   ],
   "source": [
    "import sys\n",
    "import os\n",
    "\n",
    "# Add the project root directory to Python path\n",
    "project_root = os.path.abspath(os.path.join(os.getcwd(), '..'))\n",
    "if project_root not in sys.path:\n",
    "    sys.path.insert(0, project_root)\n",
    "\n",
    "print(f\"Added {project_root} to Python path\")"
   ]
  },
  {
   "cell_type": "code",
   "execution_count": null,
   "id": "af0555cd",
   "metadata": {},
   "outputs": [],
   "source": [
    "import mlflow\n",
    "import numpy as np\n",
    "\n",
    "mlflow.set_tracking_uri(\"http://127.0.0.1:5000\") \n",
    "\n",
    "def train_and_eval_model(params):\n",
    "    with mlflow.start_run():\n",
    "        \n",
    "        mlflow.log_params(params)\n",
    "        mse = np.random.uniform(0.1, 0.5)   # métrica ficticia\n",
    "        mae = np.random.uniform(0.1, 0.3)   # métrica ficticia\n",
    "        \n",
    "        # 4. Loggear métricas\n",
    "        mlflow.log_metrics({\n",
    "            \"MSE\": mse,\n",
    "            \"MAE\": mae\n",
    "        })\n",
    "        \n",
    "        print(f\"[{params['dataset']} | horizon={params['output_len']} | trend={params['trend_method']}] \"\n",
    "              f\"MSE={mse:.3f}, MAE={mae:.3f}\")"
   ]
  },
  {
   "cell_type": "code",
   "execution_count": 3,
   "id": "0ae6379d",
   "metadata": {},
   "outputs": [
    {
     "name": "stdout",
     "output_type": "stream",
     "text": [
      "[ETTh1 | horizon=24 | trend=regression] MSE=0.395, MAE=0.203\n",
      "🏃 View run bedecked-crane-252 at: http://127.0.0.1:5000/#/experiments/0/runs/e5c64ad8ab8844e88a02a07f3f0e3f75\n",
      "🧪 View experiment at: http://127.0.0.1:5000/#/experiments/0\n"
     ]
    }
   ],
   "source": [
    "params = {\n",
    "    \"dataset\": \"ETTh1\",\n",
    "    \"input_len\": 96,\n",
    "    \"output_len\": 24,\n",
    "    \"trend_method\": \"regression\",\n",
    "    \"d_model\": 64,\n",
    "    \"n_layers\": 2,\n",
    "    \"batch_size\": 32,\n",
    "    \"learning_rate\": 0.001,\n",
    "    \"epochs\": 10\n",
    "}\n",
    "\n",
    "train_and_eval_model(params)"
   ]
  },
  {
   "cell_type": "code",
   "execution_count": null,
   "id": "f965ef13",
   "metadata": {},
   "outputs": [
    {
     "name": "stdout",
     "output_type": "stream",
     "text": [
      "Serie original: [10 12 14 13 15 17 18 20]\n",
      "Tendencia Xt : [11.5  11.5  12.5  13.25 14.   15.5  17.08 18.67]\n",
      "Estacionalidad Xs: [-1.5   0.5   1.5  -0.25  1.    1.5   0.92  1.33]\n"
     ]
    }
   ],
   "source": [
    "import numpy as np\n",
    "from micn import MHDecomp\n",
    "\n",
    "X = np.array([10, 12, 14, 13, 15, 17, 18, 20])\n",
    "\n",
    "decomp = MHDecomp(kernel_sizes=[2, 3])\n",
    "Xt, Xs = decomp.forward(X)\n",
    "\n",
    "print(\"Serie original:\", X)\n",
    "print(\"Tendencia Xt :\", np.round(Xt, 2))\n",
    "print(\"Estacionalidad Xs:\", np.round(Xs, 2))\n"
   ]
  },
  {
   "cell_type": "code",
   "execution_count": null,
   "id": "83a6f490",
   "metadata": {},
   "outputs": [
    {
     "name": "stdout",
     "output_type": "stream",
     "text": [
      "Predicción tendencia (mean): [14.25 14.25 14.25]\n",
      "Predicción tendencia (regression): [18.96 20.   21.05]\n"
     ]
    }
   ],
   "source": [
    "# Clear Python cache and reimport everything fresh\n",
    "# import sys\n",
    "# import os\n",
    "\n",
    "# # Remove any cached modules\n",
    "# modules_to_remove = [key for key in sys.modules.keys() if key.startswith('micn')]\n",
    "# for module in modules_to_remove:\n",
    "#     del sys.modules[module]\n",
    "\n",
    "from micn import TrendRegression\n",
    "import numpy as np\n",
    "\n",
    "Xt = np.array([11.5, 11.5, 12.5, 13.25, 14.0, 15.5, 17.08, 18.67])\n",
    "\n",
    "reg_mean = TrendRegression(method=\"mean\", output_len=3)\n",
    "Ytrend_mean = reg_mean.forward(Xt)\n",
    "print(\"Predicción tendencia (mean):\", np.round(Ytrend_mean, 2))\n",
    "\n",
    "reg_lin = TrendRegression(method=\"regression\", output_len=3)\n",
    "Ytrend_reg = reg_lin.forward(Xt)\n",
    "print(\"Predicción tendencia (regression):\", np.round(Ytrend_reg, 2))"
   ]
  },
  {
   "cell_type": "code",
   "execution_count": 22,
   "id": "8d0e75a2",
   "metadata": {},
   "outputs": [
    {
     "name": "stdout",
     "output_type": "stream",
     "text": [
      "Predicción estacionalidad: [0.62 0.62 0.62]\n"
     ]
    }
   ],
   "source": [
    "from micn import MICLayers\n",
    "\n",
    "Xs = np.array([-1.5, 0.5, 1.5, -0.25, 1.0, 1.5, 0.92, 1.33])\n",
    "\n",
    "mic = MICLayers(output_len=3, d_model=4, n_layers=1, scales=[2, 4])\n",
    "Yseasonal = mic.forward(Xs)\n",
    "\n",
    "print(\"Predicción estacionalidad:\", np.round(Yseasonal, 2))\n"
   ]
  },
  {
   "cell_type": "code",
   "execution_count": null,
   "id": "7d046574",
   "metadata": {},
   "outputs": [
    {
     "name": "stdout",
     "output_type": "stream",
     "text": [
      "Predicción total Ypred: [19.19 20.15 21.1 ]\n",
      "Tendencia Ytrend: [18.41 19.36 20.32]\n",
      "Estacionalidad Yseasonal: [0.78 0.78 0.78]\n"
     ]
    }
   ],
   "source": [
    "import numpy as np\n",
    "from micn.model import MICNModel\n",
    "\n",
    "X = np.array([10, 12, 14, 13, 15, 17, 18, 20])\n",
    "\n",
    "model = MICNModel(input_len=8, output_len=3, trend_method=\"regression\",\n",
    "                  d_model=4, n_layers=1, scales=[2, 4])\n",
    "\n",
    "Ypred, Ytrend, Yseasonal = model.forward(X)\n",
    "\n",
    "print(\"Predicción total Ypred:\", np.round(Ypred, 2))\n",
    "print(\"Tendencia Ytrend:\", np.round(Ytrend, 2))\n",
    "print(\"Estacionalidad Yseasonal:\", np.round(Yseasonal, 2))\n"
   ]
  },
  {
   "cell_type": "code",
   "execution_count": null,
   "id": "fcba5c3b",
   "metadata": {},
   "outputs": [
    {
     "name": "stdout",
     "output_type": "stream",
     "text": [
      "X:\n",
      " [[10 11 13 12]\n",
      " [11 13 12 14]\n",
      " [13 12 14 13]]\n",
      "Y:\n",
      " [[14 13]\n",
      " [13 16]\n",
      " [16 18]]\n"
     ]
    }
   ],
   "source": [
    "from utils.windowing import create_windows\n",
    "\n",
    "serie = [10, 11, 13, 12, 14, 13, 16, 18]\n",
    "\n",
    "X, Y = create_windows(serie, input_len=4, output_len=2)\n",
    "\n",
    "print(\"X:\\n\", X)\n",
    "print(\"Y:\\n\", Y)\n"
   ]
  },
  {
   "cell_type": "code",
   "execution_count": null,
   "id": "bab42a8d",
   "metadata": {},
   "outputs": [
    {
     "name": "stdout",
     "output_type": "stream",
     "text": [
      "Tamaño total: 69561\n",
      "Train: 48692 Val: 6956 Test: 13913\n"
     ]
    }
   ],
   "source": [
    "import sys\n",
    "import os\n",
    "\n",
    "modules_to_remove = [key for key in sys.modules.keys() if key.startswith('utils')]\n",
    "for module in modules_to_remove:\n",
    "    del sys.modules[module]\n",
    "\n",
    "from utils import create_windows, split_data\n",
    "import pandas as pd\n",
    "\n",
    "df = pd.read_csv(\"../data/ETTm1.csv\")\n",
    "\n",
    "serie = df[\"OT\"].values\n",
    "\n",
    "X, Y = create_windows(serie, input_len=96, output_len=24)\n",
    "\n",
    "(X_train, Y_train), (X_val, Y_val), (X_test, Y_test) = split_data(X, Y)\n",
    "\n",
    "print(\"Tamaño total:\", len(X))\n",
    "print(\"Train:\", len(X_train), \"Val:\", len(X_val), \"Test:\", len(X_test))"
   ]
  }
 ],
 "metadata": {
  "kernelspec": {
   "display_name": "envlab02",
   "language": "python",
   "name": "python3"
  },
  "language_info": {
   "codemirror_mode": {
    "name": "ipython",
    "version": 3
   },
   "file_extension": ".py",
   "mimetype": "text/x-python",
   "name": "python",
   "nbconvert_exporter": "python",
   "pygments_lexer": "ipython3",
   "version": "3.10.0"
  }
 },
 "nbformat": 4,
 "nbformat_minor": 5
}
